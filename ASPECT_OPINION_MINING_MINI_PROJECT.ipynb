{
  "nbformat": 4,
  "nbformat_minor": 0,
  "metadata": {
    "colab": {
      "name": "ASPECT OPINION MINING MINI PROJECT.ipynb",
      "provenance": [],
      "collapsed_sections": []
    },
    "kernelspec": {
      "name": "python3",
      "display_name": "Python 3"
    }
  },
  "cells": [
    {
      "cell_type": "code",
      "metadata": {
        "id": "z2eHJ7wdazSt",
        "outputId": "c0b558fc-093d-410b-f5ff-ae5dbd9a0687",
        "colab": {
          "base_uri": "https://localhost:8080/",
          "height": 34
        }
      },
      "source": [
        "from google.colab import drive\n",
        "drive.mount('/content/drive')"
      ],
      "execution_count": null,
      "outputs": [
        {
          "output_type": "stream",
          "text": [
            "Drive already mounted at /content/drive; to attempt to forcibly remount, call drive.mount(\"/content/drive\", force_remount=True).\n"
          ],
          "name": "stdout"
        }
      ]
    },
    {
      "cell_type": "code",
      "metadata": {
        "id": "x2GLHPy8eZf6",
        "outputId": "e1f1c084-c887-445c-c99d-57fa26ff981b",
        "colab": {
          "base_uri": "https://localhost:8080/",
          "height": 34
        }
      },
      "source": [
        "!pip install vaderSentiment"
      ],
      "execution_count": null,
      "outputs": [
        {
          "output_type": "stream",
          "text": [
            "Requirement already satisfied: vaderSentiment in /usr/local/lib/python3.6/dist-packages (3.3.1)\n"
          ],
          "name": "stdout"
        }
      ]
    },
    {
      "cell_type": "code",
      "metadata": {
        "id": "-vHpZPHJfRSW",
        "outputId": "3eda808f-5b22-4e1a-d307-3264b416cbf8",
        "colab": {
          "base_uri": "https://localhost:8080/",
          "height": 34
        }
      },
      "source": [
        "!pip install stop_words"
      ],
      "execution_count": null,
      "outputs": [
        {
          "output_type": "stream",
          "text": [
            "Requirement already satisfied: stop_words in /usr/local/lib/python3.6/dist-packages (2018.7.23)\n"
          ],
          "name": "stdout"
        }
      ]
    },
    {
      "cell_type": "code",
      "metadata": {
        "id": "RQakXoo3dxXm",
        "outputId": "c52e0559-ad1a-4c4e-e899-f1c4eb8da55c",
        "colab": {
          "base_uri": "https://localhost:8080/",
          "height": 72
        }
      },
      "source": [
        "import pandas as pd # data processing, CSV file I/O (e.g. pd.read_csv)\n",
        "import numpy as np # linear algebra\n",
        "import seaborn as sns # plotting\n",
        "import matplotlib.pyplot as plt # plotting %matplotlib inline\n",
        "import os # accessing directory structure\n",
        "import nltk\n",
        "import re\n",
        "import spacy\n",
        "from wordcloud import WordCloud\n",
        "from nltk.corpus import stopwords\n",
        "from nltk import sent_tokenize, word_tokenize\n",
        "from wordcloud import WordCloud, STOPWORDS\n",
        "from collections import Counter\n",
        "from nltk.tokenize import RegexpTokenizer\n",
        "from stop_words import get_stop_words\n",
        "from vaderSentiment import vaderSentiment\n",
        "from textblob import TextBlob\n",
        "from vaderSentiment.vaderSentiment import SentimentIntensityAnalyzer\n",
        "from nltk.stem import WordNetLemmatizer ####Lemmatization\n",
        "from nltk.corpus import wordnet # Lemmatize with POS Tag\n"
      ],
      "execution_count": null,
      "outputs": [
        {
          "output_type": "stream",
          "text": [
            "/usr/local/lib/python3.6/dist-packages/statsmodels/tools/_testing.py:19: FutureWarning: pandas.util.testing is deprecated. Use the functions in the public API at pandas.testing instead.\n",
            "  import pandas.util.testing as tm\n"
          ],
          "name": "stderr"
        }
      ]
    },
    {
      "cell_type": "code",
      "metadata": {
        "id": "Wn1X8jVsh03f"
      },
      "source": [
        "data = pd.read_csv(\"/content/drive/My Drive/yelp dataset/yelp_review.csv\")"
      ],
      "execution_count": null,
      "outputs": []
    },
    {
      "cell_type": "code",
      "metadata": {
        "id": "9OXUEVyFiaJR",
        "outputId": "13884c5c-eff1-4e56-df2e-d2976b819bbd",
        "colab": {
          "base_uri": "https://localhost:8080/",
          "height": 34
        }
      },
      "source": [
        "data.shape"
      ],
      "execution_count": null,
      "outputs": [
        {
          "output_type": "execute_result",
          "data": {
            "text/plain": [
              "(5261668, 9)"
            ]
          },
          "metadata": {
            "tags": []
          },
          "execution_count": 6
        }
      ]
    },
    {
      "cell_type": "code",
      "metadata": {
        "id": "YZWBvv-mi-e9"
      },
      "source": [
        "data = data.loc[:10000]"
      ],
      "execution_count": null,
      "outputs": []
    },
    {
      "cell_type": "code",
      "metadata": {
        "id": "HB9G27JVjEjR",
        "outputId": "541cb395-946b-4dd0-8b38-b7f497147890",
        "colab": {
          "base_uri": "https://localhost:8080/",
          "height": 34
        }
      },
      "source": [
        "data.shape"
      ],
      "execution_count": null,
      "outputs": [
        {
          "output_type": "execute_result",
          "data": {
            "text/plain": [
              "(10001, 9)"
            ]
          },
          "metadata": {
            "tags": []
          },
          "execution_count": 8
        }
      ]
    },
    {
      "cell_type": "code",
      "metadata": {
        "id": "FNfsf5yfjMU5",
        "outputId": "0146b271-2dda-4811-feff-deb0496f0f7c",
        "colab": {
          "base_uri": "https://localhost:8080/",
          "height": 293
        }
      },
      "source": [
        "data.head()"
      ],
      "execution_count": null,
      "outputs": [
        {
          "output_type": "execute_result",
          "data": {
            "text/html": [
              "<div>\n",
              "<style scoped>\n",
              "    .dataframe tbody tr th:only-of-type {\n",
              "        vertical-align: middle;\n",
              "    }\n",
              "\n",
              "    .dataframe tbody tr th {\n",
              "        vertical-align: top;\n",
              "    }\n",
              "\n",
              "    .dataframe thead th {\n",
              "        text-align: right;\n",
              "    }\n",
              "</style>\n",
              "<table border=\"1\" class=\"dataframe\">\n",
              "  <thead>\n",
              "    <tr style=\"text-align: right;\">\n",
              "      <th></th>\n",
              "      <th>review_id</th>\n",
              "      <th>user_id</th>\n",
              "      <th>business_id</th>\n",
              "      <th>stars</th>\n",
              "      <th>date</th>\n",
              "      <th>text</th>\n",
              "      <th>useful</th>\n",
              "      <th>funny</th>\n",
              "      <th>cool</th>\n",
              "    </tr>\n",
              "  </thead>\n",
              "  <tbody>\n",
              "    <tr>\n",
              "      <th>0</th>\n",
              "      <td>vkVSCC7xljjrAI4UGfnKEQ</td>\n",
              "      <td>bv2nCi5Qv5vroFiqKGopiw</td>\n",
              "      <td>AEx2SYEUJmTxVVB18LlCwA</td>\n",
              "      <td>5</td>\n",
              "      <td>2016-05-28</td>\n",
              "      <td>Super simple place but amazing nonetheless. It...</td>\n",
              "      <td>0</td>\n",
              "      <td>0</td>\n",
              "      <td>0</td>\n",
              "    </tr>\n",
              "    <tr>\n",
              "      <th>1</th>\n",
              "      <td>n6QzIUObkYshz4dz2QRJTw</td>\n",
              "      <td>bv2nCi5Qv5vroFiqKGopiw</td>\n",
              "      <td>VR6GpWIda3SfvPC-lg9H3w</td>\n",
              "      <td>5</td>\n",
              "      <td>2016-05-28</td>\n",
              "      <td>Small unassuming place that changes their menu...</td>\n",
              "      <td>0</td>\n",
              "      <td>0</td>\n",
              "      <td>0</td>\n",
              "    </tr>\n",
              "    <tr>\n",
              "      <th>2</th>\n",
              "      <td>MV3CcKScW05u5LVfF6ok0g</td>\n",
              "      <td>bv2nCi5Qv5vroFiqKGopiw</td>\n",
              "      <td>CKC0-MOWMqoeWf6s-szl8g</td>\n",
              "      <td>5</td>\n",
              "      <td>2016-05-28</td>\n",
              "      <td>Lester's is located in a beautiful neighborhoo...</td>\n",
              "      <td>0</td>\n",
              "      <td>0</td>\n",
              "      <td>0</td>\n",
              "    </tr>\n",
              "    <tr>\n",
              "      <th>3</th>\n",
              "      <td>IXvOzsEMYtiJI0CARmj77Q</td>\n",
              "      <td>bv2nCi5Qv5vroFiqKGopiw</td>\n",
              "      <td>ACFtxLv8pGrrxMm6EgjreA</td>\n",
              "      <td>4</td>\n",
              "      <td>2016-05-28</td>\n",
              "      <td>Love coming here. Yes the place always needs t...</td>\n",
              "      <td>0</td>\n",
              "      <td>0</td>\n",
              "      <td>0</td>\n",
              "    </tr>\n",
              "    <tr>\n",
              "      <th>4</th>\n",
              "      <td>L_9BTb55X0GDtThi6GlZ6w</td>\n",
              "      <td>bv2nCi5Qv5vroFiqKGopiw</td>\n",
              "      <td>s2I_Ni76bjJNK9yG60iD-Q</td>\n",
              "      <td>4</td>\n",
              "      <td>2016-05-28</td>\n",
              "      <td>Had their chocolate almond croissant and it wa...</td>\n",
              "      <td>0</td>\n",
              "      <td>0</td>\n",
              "      <td>0</td>\n",
              "    </tr>\n",
              "  </tbody>\n",
              "</table>\n",
              "</div>"
            ],
            "text/plain": [
              "                review_id                 user_id  ... funny  cool\n",
              "0  vkVSCC7xljjrAI4UGfnKEQ  bv2nCi5Qv5vroFiqKGopiw  ...     0     0\n",
              "1  n6QzIUObkYshz4dz2QRJTw  bv2nCi5Qv5vroFiqKGopiw  ...     0     0\n",
              "2  MV3CcKScW05u5LVfF6ok0g  bv2nCi5Qv5vroFiqKGopiw  ...     0     0\n",
              "3  IXvOzsEMYtiJI0CARmj77Q  bv2nCi5Qv5vroFiqKGopiw  ...     0     0\n",
              "4  L_9BTb55X0GDtThi6GlZ6w  bv2nCi5Qv5vroFiqKGopiw  ...     0     0\n",
              "\n",
              "[5 rows x 9 columns]"
            ]
          },
          "metadata": {
            "tags": []
          },
          "execution_count": 9
        }
      ]
    },
    {
      "cell_type": "code",
      "metadata": {
        "id": "ptkNdJmMjQkA",
        "outputId": "ffcd84e8-72ca-45a1-c821-4a163c96c7f9",
        "colab": {
          "base_uri": "https://localhost:8080/",
          "height": 34
        }
      },
      "source": [
        "nRow, nCol = data.shape\n",
        "print(f'There are {nRow} rows and {nCol} columns')"
      ],
      "execution_count": null,
      "outputs": [
        {
          "output_type": "stream",
          "text": [
            "There are 10001 rows and 9 columns\n"
          ],
          "name": "stdout"
        }
      ]
    },
    {
      "cell_type": "code",
      "metadata": {
        "id": "SS0ygQjejdb6",
        "outputId": "68fc9c4c-3fb5-4935-f44f-656a6500536d",
        "colab": {
          "base_uri": "https://localhost:8080/",
          "height": 191
        }
      },
      "source": [
        "data.dtypes #DataTypes"
      ],
      "execution_count": null,
      "outputs": [
        {
          "output_type": "execute_result",
          "data": {
            "text/plain": [
              "review_id      object\n",
              "user_id        object\n",
              "business_id    object\n",
              "stars           int64\n",
              "date           object\n",
              "text           object\n",
              "useful          int64\n",
              "funny           int64\n",
              "cool            int64\n",
              "dtype: object"
            ]
          },
          "metadata": {
            "tags": []
          },
          "execution_count": 11
        }
      ]
    },
    {
      "cell_type": "code",
      "metadata": {
        "id": "8TRhcxEijmzH"
      },
      "source": [
        "data[\"text\"] = data[\"text\"].astype(str)"
      ],
      "execution_count": null,
      "outputs": []
    },
    {
      "cell_type": "markdown",
      "metadata": {
        "id": "1cA9qkpDlxXd"
      },
      "source": [
        "TEXT CLEANING"
      ]
    },
    {
      "cell_type": "code",
      "metadata": {
        "id": "i-siA8Oljy_9"
      },
      "source": [
        "def remove_urls(text):\n",
        "    url_pattern = re.compile(r'https?://\\S+|www\\.\\S+|@[^\\s]+')\n",
        "    return url_pattern.sub(r'', text)"
      ],
      "execution_count": null,
      "outputs": []
    },
    {
      "cell_type": "code",
      "metadata": {
        "id": "kx790s5YJhLl"
      },
      "source": [
        "data[\"textclean\"] = data[\"text\"].apply(lambda text: remove_urls(text))"
      ],
      "execution_count": null,
      "outputs": []
    },
    {
      "cell_type": "code",
      "metadata": {
        "id": "JbK0LAWZK-qY"
      },
      "source": [
        "data.head()"
      ],
      "execution_count": null,
      "outputs": []
    },
    {
      "cell_type": "code",
      "metadata": {
        "id": "VdXvINL5kRtw"
      },
      "source": [
        "top_N = 100 #top 100 words\n",
        "\n",
        "#convert list of list into text\n",
        "a = data['textclean'].str.lower().str.cat(sep=' ')\n",
        "\n",
        "# removes punctuation,numbers and returns list of words\n",
        "b = re.sub('[^A-Za-z]+', ' ', a)"
      ],
      "execution_count": null,
      "outputs": []
    },
    {
      "cell_type": "code",
      "metadata": {
        "id": "lXTmyjm9kVEN",
        "outputId": "095663ae-6b05-4c85-87ca-137ba044aa65",
        "colab": {
          "base_uri": "https://localhost:8080/",
          "height": 52
        }
      },
      "source": [
        "#remove all the stopwords from the text\n",
        "nltk.download('stopwords')\n",
        "stop_words = list(get_stop_words('en'))         \n",
        "nltk_words = list(stopwords.words('english'))   \n",
        "stop_words.extend(nltk_words)"
      ],
      "execution_count": null,
      "outputs": [
        {
          "output_type": "stream",
          "text": [
            "[nltk_data] Downloading package stopwords to /root/nltk_data...\n",
            "[nltk_data]   Package stopwords is already up-to-date!\n"
          ],
          "name": "stdout"
        }
      ]
    },
    {
      "cell_type": "code",
      "metadata": {
        "id": "i06ino55kzSK",
        "outputId": "05a5c7a3-c0eb-4cef-9d51-e771f7d77797",
        "colab": {
          "base_uri": "https://localhost:8080/",
          "height": 52
        }
      },
      "source": [
        "nltk.download('punkt')\n",
        "word_tokens = word_tokenize(b) # Tokenization\n",
        "filtered_sentence = [w for w in word_tokens if not w in stop_words]\n",
        "filtered_sentence = []\n",
        "for w in word_tokens:\n",
        "    if w not in stop_words:\n",
        "        filtered_sentence.append(w)"
      ],
      "execution_count": null,
      "outputs": [
        {
          "output_type": "stream",
          "text": [
            "[nltk_data] Downloading package punkt to /root/nltk_data...\n",
            "[nltk_data]   Package punkt is already up-to-date!\n"
          ],
          "name": "stdout"
        }
      ]
    },
    {
      "cell_type": "code",
      "metadata": {
        "id": "QPN8psGzlS2Z"
      },
      "source": [
        "# Remove characters which have length less than 2  \n",
        "without_single_chr = [word for word in filtered_sentence if len(word) > 2]\n",
        "\n",
        "# Remove numbers\n",
        "cleaned_data_title = [word for word in without_single_chr if not word.isnumeric()]"
      ],
      "execution_count": null,
      "outputs": []
    },
    {
      "cell_type": "markdown",
      "metadata": {
        "id": "mldQR9DClneY"
      },
      "source": [
        "LIMMATIZATION"
      ]
    },
    {
      "cell_type": "code",
      "metadata": {
        "id": "_sO5lekPlVqh",
        "outputId": "187b9299-e484-4f82-f7db-a21aa92e4897",
        "colab": {
          "base_uri": "https://localhost:8080/",
          "height": 104
        }
      },
      "source": [
        "nltk.download('averaged_perceptron_tagger')\n",
        "nltk.download('wordnet')\n",
        "def get_wordnet_pos(word):\n",
        "    \"\"\"Map POS tag to first character lemmatize() accepts\"\"\"\n",
        "    tag = nltk.pos_tag([word])[0][1][0].upper()\n",
        "    tag_dict = {\"J\": wordnet.ADJ,\n",
        "                \"N\": wordnet.NOUN,\n",
        "                \"V\": wordnet.VERB,\n",
        "                \"R\": wordnet.ADV}\n",
        "    return tag_dict.get(tag, wordnet.NOUN)\n",
        "\n",
        "# 1. Init Lemmatizer\n",
        "lemmatizer = WordNetLemmatizer()"
      ],
      "execution_count": null,
      "outputs": [
        {
          "output_type": "stream",
          "text": [
            "[nltk_data] Downloading package averaged_perceptron_tagger to\n",
            "[nltk_data]     /root/nltk_data...\n",
            "[nltk_data]   Unzipping taggers/averaged_perceptron_tagger.zip.\n",
            "[nltk_data] Downloading package wordnet to /root/nltk_data...\n",
            "[nltk_data]   Unzipping corpora/wordnet.zip.\n"
          ],
          "name": "stdout"
        }
      ]
    },
    {
      "cell_type": "code",
      "metadata": {
        "id": "0lnX3ZiCmHw5"
      },
      "source": [
        "lemmatized_output = [lemmatizer.lemmatize(w, get_wordnet_pos(w)) for w in cleaned_data_title]\n",
        "lemmatized_output = [word for word in lemmatized_output if not word.isnumeric()]"
      ],
      "execution_count": null,
      "outputs": []
    },
    {
      "cell_type": "markdown",
      "metadata": {
        "id": "-kFUZl5mnI6E"
      },
      "source": [
        "FREQUENCY DISTRIBUTION"
      ]
    },
    {
      "cell_type": "code",
      "metadata": {
        "id": "_jrG_RomnX0h",
        "outputId": "4c2461c8-fdf2-47b0-8e11-ad520924f564",
        "colab": {
          "base_uri": "https://localhost:8080/",
          "height": 606
        }
      },
      "source": [
        "word_dist = nltk.FreqDist(lemmatized_output)\n",
        "top100_words = pd.DataFrame(word_dist.most_common(top_N),\n",
        "                    columns=['Word', 'Frequency'])\n",
        "\n",
        "plt.figure(figsize=(10,10))\n",
        "sns.set_style(\"whitegrid\")\n",
        "ax = sns.barplot(x=\"Frequency\",y=\"Word\", data=top100_words.head(10))"
      ],
      "execution_count": null,
      "outputs": [
        {
          "output_type": "display_data",
          "data": {
            "image/png": "[encoded data removed]",
            "text/plain": [
              "<Figure size 720x720 with 1 Axes>"
            ]
          },
          "metadata": {
            "tags": [],
            "needs_background": "light"
          }
        }
      ]
    },
    {
      "cell_type": "markdown",
      "metadata": {
        "id": "dUFNcGL_nlaQ"
      },
      "source": [
        "WORDCLOUD"
      ]
    },
    {
      "cell_type": "code",
      "metadata": {
        "id": "dx7vwVFWnbQ0",
        "outputId": "c3365d1d-5f5f-42dd-9254-36c5c877e360",
        "colab": {
          "base_uri": "https://localhost:8080/",
          "height": 614
        }
      },
      "source": [
        "def wc(data,bgcolor,title):\n",
        "    plt.figure(figsize = (80,80))\n",
        "    wc = WordCloud(background_color = bgcolor, max_words = 100,  max_font_size = 50)\n",
        "    wc.generate(' '.join(data))\n",
        "    plt.imshow(wc)\n",
        "    plt.axis('off')\n",
        "\n",
        "wc(lemmatized_output,'black','Common Words' )"
      ],
      "execution_count": null,
      "outputs": [
        {
          "output_type": "display_data",
          "data": {
            "image/png": "[encoded data removed]",
            "text/plain": [
              "<Figure size 5760x5760 with 1 Axes>"
            ]
          },
          "metadata": {
            "tags": []
          }
        }
      ]
    },
    {
      "cell_type": "markdown",
      "metadata": {
        "id": "u6b9kRqooH3O"
      },
      "source": [
        "VADER + TEXTBLOB SENTIMENTAL ANALYSIS"
      ]
    },
    {
      "cell_type": "code",
      "metadata": {
        "id": "79dZ5bVVn6gr",
        "outputId": "965ffde1-8fba-4ae6-a6ee-a0a399321b39",
        "colab": {
          "base_uri": "https://localhost:8080/",
          "height": 539
        }
      },
      "source": [
        "sent_analyser = SentimentIntensityAnalyzer()\n",
        "def sentiment(text):\n",
        "    return (sent_analyser.polarity_scores(text)[\"compound\"])\n",
        "\n",
        "data[\"Polarity\"] = data[\"textclean\"].apply(sentiment)\n",
        "\n",
        "data.head()"
      ],
      "execution_count": null,
      "outputs": [
        {
          "output_type": "execute_result",
          "data": {
            "text/html": [
              "<div>\n",
              "<style scoped>\n",
              "    .dataframe tbody tr th:only-of-type {\n",
              "        vertical-align: middle;\n",
              "    }\n",
              "\n",
              "    .dataframe tbody tr th {\n",
              "        vertical-align: top;\n",
              "    }\n",
              "\n",
              "    .dataframe thead th {\n",
              "        text-align: right;\n",
              "    }\n",
              "</style>\n",
              "<table border=\"1\" class=\"dataframe\">\n",
              "  <thead>\n",
              "    <tr style=\"text-align: right;\">\n",
              "      <th></th>\n",
              "      <th>review_id</th>\n",
              "      <th>user_id</th>\n",
              "      <th>business_id</th>\n",
              "      <th>stars</th>\n",
              "      <th>date</th>\n",
              "      <th>text</th>\n",
              "      <th>useful</th>\n",
              "      <th>funny</th>\n",
              "      <th>cool</th>\n",
              "      <th>textclean</th>\n",
              "      <th>Polarity</th>\n",
              "    </tr>\n",
              "  </thead>\n",
              "  <tbody>\n",
              "    <tr>\n",
              "      <th>0</th>\n",
              "      <td>vkVSCC7xljjrAI4UGfnKEQ</td>\n",
              "      <td>bv2nCi5Qv5vroFiqKGopiw</td>\n",
              "      <td>AEx2SYEUJmTxVVB18LlCwA</td>\n",
              "      <td>5</td>\n",
              "      <td>2016-05-28</td>\n",
              "      <td>Super simple place but amazing nonetheless. It...</td>\n",
              "      <td>0</td>\n",
              "      <td>0</td>\n",
              "      <td>0</td>\n",
              "      <td>Super simple place but amazing nonetheless. It...</td>\n",
              "      <td>0.9551</td>\n",
              "    </tr>\n",
              "    <tr>\n",
              "      <th>1</th>\n",
              "      <td>n6QzIUObkYshz4dz2QRJTw</td>\n",
              "      <td>bv2nCi5Qv5vroFiqKGopiw</td>\n",
              "      <td>VR6GpWIda3SfvPC-lg9H3w</td>\n",
              "      <td>5</td>\n",
              "      <td>2016-05-28</td>\n",
              "      <td>Small unassuming place that changes their menu...</td>\n",
              "      <td>0</td>\n",
              "      <td>0</td>\n",
              "      <td>0</td>\n",
              "      <td>Small unassuming place that changes their menu...</td>\n",
              "      <td>0.8167</td>\n",
              "    </tr>\n",
              "    <tr>\n",
              "      <th>2</th>\n",
              "      <td>MV3CcKScW05u5LVfF6ok0g</td>\n",
              "      <td>bv2nCi5Qv5vroFiqKGopiw</td>\n",
              "      <td>CKC0-MOWMqoeWf6s-szl8g</td>\n",
              "      <td>5</td>\n",
              "      <td>2016-05-28</td>\n",
              "      <td>Lester's is located in a beautiful neighborhoo...</td>\n",
              "      <td>0</td>\n",
              "      <td>0</td>\n",
              "      <td>0</td>\n",
              "      <td>Lester's is located in a beautiful neighborhoo...</td>\n",
              "      <td>0.6249</td>\n",
              "    </tr>\n",
              "    <tr>\n",
              "      <th>3</th>\n",
              "      <td>IXvOzsEMYtiJI0CARmj77Q</td>\n",
              "      <td>bv2nCi5Qv5vroFiqKGopiw</td>\n",
              "      <td>ACFtxLv8pGrrxMm6EgjreA</td>\n",
              "      <td>4</td>\n",
              "      <td>2016-05-28</td>\n",
              "      <td>Love coming here. Yes the place always needs t...</td>\n",
              "      <td>0</td>\n",
              "      <td>0</td>\n",
              "      <td>0</td>\n",
              "      <td>Love coming here. Yes the place always needs t...</td>\n",
              "      <td>0.8560</td>\n",
              "    </tr>\n",
              "    <tr>\n",
              "      <th>4</th>\n",
              "      <td>L_9BTb55X0GDtThi6GlZ6w</td>\n",
              "      <td>bv2nCi5Qv5vroFiqKGopiw</td>\n",
              "      <td>s2I_Ni76bjJNK9yG60iD-Q</td>\n",
              "      <td>4</td>\n",
              "      <td>2016-05-28</td>\n",
              "      <td>Had their chocolate almond croissant and it wa...</td>\n",
              "      <td>0</td>\n",
              "      <td>0</td>\n",
              "      <td>0</td>\n",
              "      <td>Had their chocolate almond croissant and it wa...</td>\n",
              "      <td>0.8313</td>\n",
              "    </tr>\n",
              "  </tbody>\n",
              "</table>\n",
              "</div>"
            ],
            "text/plain": [
              "                review_id  ... Polarity\n",
              "0  vkVSCC7xljjrAI4UGfnKEQ  ...   0.9551\n",
              "1  n6QzIUObkYshz4dz2QRJTw  ...   0.8167\n",
              "2  MV3CcKScW05u5LVfF6ok0g  ...   0.6249\n",
              "3  IXvOzsEMYtiJI0CARmj77Q  ...   0.8560\n",
              "4  L_9BTb55X0GDtThi6GlZ6w  ...   0.8313\n",
              "\n",
              "[5 rows x 11 columns]"
            ]
          },
          "metadata": {
            "tags": []
          },
          "execution_count": 24
        }
      ]
    },
    {
      "cell_type": "code",
      "metadata": {
        "id": "Z3hFIDUUon91",
        "outputId": "fcdce33d-9ae5-44fd-f2df-2cf0de1216db",
        "colab": {
          "base_uri": "https://localhost:8080/",
          "height": 225
        }
      },
      "source": [
        "data.dtypes"
      ],
      "execution_count": null,
      "outputs": [
        {
          "output_type": "execute_result",
          "data": {
            "text/plain": [
              "review_id       object\n",
              "user_id         object\n",
              "business_id     object\n",
              "stars            int64\n",
              "date            object\n",
              "text            object\n",
              "useful           int64\n",
              "funny            int64\n",
              "cool             int64\n",
              "textclean       object\n",
              "Polarity       float64\n",
              "dtype: object"
            ]
          },
          "metadata": {
            "tags": []
          },
          "execution_count": 25
        }
      ]
    },
    {
      "cell_type": "code",
      "metadata": {
        "id": "DUUpa5Lio5S0",
        "outputId": "123d0f5b-9c15-4f47-b3c4-3cafd1d21443",
        "colab": {
          "base_uri": "https://localhost:8080/",
          "height": 606
        }
      },
      "source": [
        "def senti(data):\n",
        "    if data['Polarity'] >= 0.05:\n",
        "        val = \"Positive\"\n",
        "    elif data['Polarity'] <= -0.05:\n",
        "        val = \"Negative\"\n",
        "    else:\n",
        "        val = \"Neutral\"\n",
        "    return val\n",
        "\n",
        "data['Sentiment'] = data.apply(senti, axis=1)\n",
        "\n",
        "plt.figure(figsize=(10,10))\n",
        "sns.set_style(\"whitegrid\")\n",
        "ax = sns.countplot(x=\"Sentiment\", data=data, \n",
        "                  palette=dict(Neutral=\"blue\", Positive=\"Green\", Negative=\"Red\"))"
      ],
      "execution_count": null,
      "outputs": [
        {
          "output_type": "display_data",
          "data": {
            "image/png": "[encoded data removed]",
            "text/plain": [
              "<Figure size 720x720 with 1 Axes>"
            ]
          },
          "metadata": {
            "tags": []
          }
        }
      ]
    },
    {
      "cell_type": "markdown",
      "metadata": {
        "id": "eKxTi1ElpOw0"
      },
      "source": [
        "ASPECT MINING/ OPINION MINING"
      ]
    },
    {
      "cell_type": "code",
      "metadata": {
        "id": "mbO0bddno_Kk"
      },
      "source": [
        "#import spacy\n",
        "nlp = spacy.load(\"en_core_web_sm\")\n",
        "\n",
        "def pos(text):\n",
        "    doc = nlp(text)\n",
        "    # You want list of Verb tokens \n",
        "    aspects = [token.text for token in doc if token.pos_ == \"NOUN\"]\n",
        "    return aspects"
      ],
      "execution_count": null,
      "outputs": []
    },
    {
      "cell_type": "code",
      "metadata": {
        "id": "aBC5VILFpY5f"
      },
      "source": [
        "data[\"Aspects\"] = data[\"textclean\"].apply(pos)"
      ],
      "execution_count": null,
      "outputs": []
    },
    {
      "cell_type": "code",
      "metadata": {
        "id": "GkB7l8TTqHBx",
        "outputId": "149d2376-e4bd-4930-f78a-b4f1f8d9a0e8",
        "colab": {
          "base_uri": "https://localhost:8080/",
          "height": 539
        }
      },
      "source": [
        "data.head()"
      ],
      "execution_count": null,
      "outputs": [
        {
          "output_type": "execute_result",
          "data": {
            "text/html": [
              "<div>\n",
              "<style scoped>\n",
              "    .dataframe tbody tr th:only-of-type {\n",
              "        vertical-align: middle;\n",
              "    }\n",
              "\n",
              "    .dataframe tbody tr th {\n",
              "        vertical-align: top;\n",
              "    }\n",
              "\n",
              "    .dataframe thead th {\n",
              "        text-align: right;\n",
              "    }\n",
              "</style>\n",
              "<table border=\"1\" class=\"dataframe\">\n",
              "  <thead>\n",
              "    <tr style=\"text-align: right;\">\n",
              "      <th></th>\n",
              "      <th>review_id</th>\n",
              "      <th>user_id</th>\n",
              "      <th>business_id</th>\n",
              "      <th>stars</th>\n",
              "      <th>date</th>\n",
              "      <th>text</th>\n",
              "      <th>useful</th>\n",
              "      <th>funny</th>\n",
              "      <th>cool</th>\n",
              "      <th>textclean</th>\n",
              "      <th>Polarity</th>\n",
              "      <th>Sentiment</th>\n",
              "      <th>Aspects</th>\n",
              "    </tr>\n",
              "  </thead>\n",
              "  <tbody>\n",
              "    <tr>\n",
              "      <th>0</th>\n",
              "      <td>vkVSCC7xljjrAI4UGfnKEQ</td>\n",
              "      <td>bv2nCi5Qv5vroFiqKGopiw</td>\n",
              "      <td>AEx2SYEUJmTxVVB18LlCwA</td>\n",
              "      <td>5</td>\n",
              "      <td>2016-05-28</td>\n",
              "      <td>Super simple place but amazing nonetheless. It...</td>\n",
              "      <td>0</td>\n",
              "      <td>0</td>\n",
              "      <td>0</td>\n",
              "      <td>Super simple place but amazing nonetheless. It...</td>\n",
              "      <td>0.9551</td>\n",
              "      <td>Positive</td>\n",
              "      <td>[place, thing, salami, mustard, Staff]</td>\n",
              "    </tr>\n",
              "    <tr>\n",
              "      <th>1</th>\n",
              "      <td>n6QzIUObkYshz4dz2QRJTw</td>\n",
              "      <td>bv2nCi5Qv5vroFiqKGopiw</td>\n",
              "      <td>VR6GpWIda3SfvPC-lg9H3w</td>\n",
              "      <td>5</td>\n",
              "      <td>2016-05-28</td>\n",
              "      <td>Small unassuming place that changes their menu...</td>\n",
              "      <td>0</td>\n",
              "      <td>0</td>\n",
              "      <td>0</td>\n",
              "      <td>Small unassuming place that changes their menu...</td>\n",
              "      <td>0.8167</td>\n",
              "      <td>Positive</td>\n",
              "      <td>[place, menu, decor, vibe, seat, restaurant, r...</td>\n",
              "    </tr>\n",
              "    <tr>\n",
              "      <th>2</th>\n",
              "      <td>MV3CcKScW05u5LVfF6ok0g</td>\n",
              "      <td>bv2nCi5Qv5vroFiqKGopiw</td>\n",
              "      <td>CKC0-MOWMqoeWf6s-szl8g</td>\n",
              "      <td>5</td>\n",
              "      <td>2016-05-28</td>\n",
              "      <td>Lester's is located in a beautiful neighborhoo...</td>\n",
              "      <td>0</td>\n",
              "      <td>0</td>\n",
              "      <td>0</td>\n",
              "      <td>Lester's is located in a beautiful neighborhoo...</td>\n",
              "      <td>0.6249</td>\n",
              "      <td>Positive</td>\n",
              "      <td>[neighborhood, meat, deli, brisket, sandwich, ...</td>\n",
              "    </tr>\n",
              "    <tr>\n",
              "      <th>3</th>\n",
              "      <td>IXvOzsEMYtiJI0CARmj77Q</td>\n",
              "      <td>bv2nCi5Qv5vroFiqKGopiw</td>\n",
              "      <td>ACFtxLv8pGrrxMm6EgjreA</td>\n",
              "      <td>4</td>\n",
              "      <td>2016-05-28</td>\n",
              "      <td>Love coming here. Yes the place always needs t...</td>\n",
              "      <td>0</td>\n",
              "      <td>0</td>\n",
              "      <td>0</td>\n",
              "      <td>Love coming here. Yes the place always needs t...</td>\n",
              "      <td>0.8560</td>\n",
              "      <td>Positive</td>\n",
              "      <td>[Love, place, floor, peanuts, shell, bit, food...</td>\n",
              "    </tr>\n",
              "    <tr>\n",
              "      <th>4</th>\n",
              "      <td>L_9BTb55X0GDtThi6GlZ6w</td>\n",
              "      <td>bv2nCi5Qv5vroFiqKGopiw</td>\n",
              "      <td>s2I_Ni76bjJNK9yG60iD-Q</td>\n",
              "      <td>4</td>\n",
              "      <td>2016-05-28</td>\n",
              "      <td>Had their chocolate almond croissant and it wa...</td>\n",
              "      <td>0</td>\n",
              "      <td>0</td>\n",
              "      <td>0</td>\n",
              "      <td>Had their chocolate almond croissant and it wa...</td>\n",
              "      <td>0.8313</td>\n",
              "      <td>Positive</td>\n",
              "      <td>[chocolate, almond, croissant, light, buttery,...</td>\n",
              "    </tr>\n",
              "  </tbody>\n",
              "</table>\n",
              "</div>"
            ],
            "text/plain": [
              "                review_id  ...                                            Aspects\n",
              "0  vkVSCC7xljjrAI4UGfnKEQ  ...             [place, thing, salami, mustard, Staff]\n",
              "1  n6QzIUObkYshz4dz2QRJTw  ...  [place, menu, decor, vibe, seat, restaurant, r...\n",
              "2  MV3CcKScW05u5LVfF6ok0g  ...  [neighborhood, meat, deli, brisket, sandwich, ...\n",
              "3  IXvOzsEMYtiJI0CARmj77Q  ...  [Love, place, floor, peanuts, shell, bit, food...\n",
              "4  L_9BTb55X0GDtThi6GlZ6w  ...  [chocolate, almond, croissant, light, buttery,...\n",
              "\n",
              "[5 rows x 13 columns]"
            ]
          },
          "metadata": {
            "tags": []
          },
          "execution_count": 29
        }
      ]
    },
    {
      "cell_type": "code",
      "metadata": {
        "id": "ecfrHWvIN5I9",
        "outputId": "6e199732-0b0d-4e84-9159-53d0dfb6f74e",
        "colab": {
          "base_uri": "https://localhost:8080/",
          "height": 243
        }
      },
      "source": [
        "data_classes = data[(data['stars']==1) | (data['stars']==3) | (data['stars']==5)]\n",
        "data_classes.head()\n",
        "print(data_classes.shape)\n",
        "\n",
        "# Seperate the dataset into X and Y for prediction\n",
        "x = data_classes['text']\n",
        "y = data_classes['stars']\n",
        "print(x.head())\n",
        "print(y.head())"
      ],
      "execution_count": null,
      "outputs": [
        {
          "output_type": "stream",
          "text": [
            "(6143, 13)\n",
            "0    Super simple place but amazing nonetheless. It...\n",
            "1    Small unassuming place that changes their menu...\n",
            "2    Lester's is located in a beautiful neighborhoo...\n",
            "5    Cycle Pub Las Vegas was a blast! Got a groupon...\n",
            "8    Not bad!! Love that there is a gluten-free, ve...\n",
            "Name: text, dtype: object\n",
            "0    5\n",
            "1    5\n",
            "2    5\n",
            "5    5\n",
            "8    3\n",
            "Name: stars, dtype: int64\n"
          ],
          "name": "stdout"
        }
      ]
    },
    {
      "cell_type": "code",
      "metadata": {
        "id": "3OYJHyU26sYg",
        "outputId": "7889ee73-3782-47eb-c9f9-4d621e8ee1de",
        "colab": {
          "base_uri": "https://localhost:8080/",
          "height": 697
        }
      },
      "source": [
        "from sklearn.feature_extraction.text import TfidfVectorizer, CountVectorizer\n",
        "from sklearn.decomposition import NMF, LatentDirichletAllocation\n",
        "import numpy as np\n",
        "vocab = CountVectorizer(analyzer=remove_urls).fit(x)\n",
        "print(len(vocab.vocabulary_))\n",
        "r0 = x[0]\n",
        "print(r0)\n",
        "vocab0 = vocab.transform([r0])\n",
        "print(vocab0)\n",
        "\"\"\"\n",
        "    Now the words in the review number 78 have been converted into a vector.\n",
        "    The data that we can see is the transformed words.\n",
        "    If we now get the feature's name - we can get the word back!\n",
        "\"\"\"\n",
        "print(\"Getting the words back:\")\n",
        "print(vocab.get_feature_names()[100])\n",
        "print(vocab.get_feature_names()[100])\n"
      ],
      "execution_count": null,
      "outputs": [
        {
          "output_type": "stream",
          "text": [
            "190\n",
            "Super simple place but amazing nonetheless. It's been around since the 30's and they still serve the same thing they started with: a bologna and salami sandwich with mustard. \n",
            "\n",
            "Staff was very helpful and friendly.\n",
            "  (0, 0)\t2\n",
            "  (0, 1)\t34\n",
            "  (0, 8)\t2\n",
            "  (0, 15)\t3\n",
            "  (0, 17)\t1\n",
            "  (0, 20)\t1\n",
            "  (0, 27)\t1\n",
            "  (0, 40)\t1\n",
            "  (0, 50)\t2\n",
            "  (0, 64)\t17\n",
            "  (0, 65)\t3\n",
            "  (0, 66)\t3\n",
            "  (0, 67)\t8\n",
            "  (0, 68)\t20\n",
            "  (0, 69)\t4\n",
            "  (0, 70)\t3\n",
            "  (0, 71)\t10\n",
            "  (0, 72)\t10\n",
            "  (0, 75)\t10\n",
            "  (0, 76)\t5\n",
            "  (0, 77)\t13\n",
            "  (0, 78)\t4\n",
            "  (0, 79)\t4\n",
            "  (0, 81)\t7\n",
            "  (0, 82)\t14\n",
            "  (0, 83)\t15\n",
            "  (0, 84)\t5\n",
            "  (0, 85)\t2\n",
            "  (0, 86)\t4\n",
            "  (0, 88)\t4\n",
            "  (0, 89)\t1\n",
            "Getting the words back:\n",
            "È\n",
            "È\n"
          ],
          "name": "stdout"
        }
      ]
    },
    {
      "cell_type": "code",
      "metadata": {
        "id": "gH8wiH7lPUpU",
        "outputId": "45082982-2c91-4717-b259-5cc8340b7fc5",
        "colab": {
          "base_uri": "https://localhost:8080/",
          "height": 69
        }
      },
      "source": [
        "x = vocab.transform(x)\n",
        "#Shape of the matrix:\n",
        "print(\"Shape of the sparse matrix: \", x.shape)\n",
        "#Non-zero occurences:\n",
        "print(\"Non-Zero occurences: \",x.nnz)\n",
        "\n",
        "# DENSITY OF THE MATRIX\n",
        "density = (x.nnz/(x.shape[0]*x.shape[1]))*100\n",
        "print(\"Density of the matrix = \",density)"
      ],
      "execution_count": null,
      "outputs": [
        {
          "output_type": "stream",
          "text": [
            "Shape of the sparse matrix:  (6143, 190)\n",
            "Non-Zero occurences:  240183\n",
            "Density of the matrix =  20.578236246647876\n"
          ],
          "name": "stdout"
        }
      ]
    },
    {
      "cell_type": "code",
      "metadata": {
        "id": "oYL4BJ95PY_u"
      },
      "source": [
        "# SPLITTING THE DATASET INTO TRAINING SET AND TESTING SET\n",
        "from sklearn.model_selection import train_test_split\n",
        "x_train,x_test,y_train,y_test = train_test_split(x,y,test_size=0.2,random_state=101)"
      ],
      "execution_count": null,
      "outputs": []
    },
    {
      "cell_type": "code",
      "metadata": {
        "id": "ggjcfJr1QLn8",
        "outputId": "866bbe65-cddb-4cb2-ac96-833bfc4bc085",
        "colab": {
          "base_uri": "https://localhost:8080/",
          "height": 278
        }
      },
      "source": [
        "# Multinomial Naive Bayes\n",
        "from sklearn.naive_bayes import MultinomialNB\n",
        "from sklearn.metrics import confusion_matrix\n",
        "from sklearn.metrics import accuracy_score\n",
        "from sklearn.metrics import classification_report\n",
        "mnb = MultinomialNB()\n",
        "mnb.fit(x_train,y_train)\n",
        "predmnb = mnb.predict(x_test)\n",
        "print(\"Confusion Matrix for Multinomial Naive Bayes:\")\n",
        "print(confusion_matrix(y_test,predmnb))\n",
        "print(\"Score:\",round(accuracy_score(y_test,predmnb)*100,2))\n",
        "print(\"Classification Report:\",classification_report(y_test,predmnb))"
      ],
      "execution_count": null,
      "outputs": [
        {
          "output_type": "stream",
          "text": [
            "Confusion Matrix for Multinomial Naive Bayes:\n",
            "[[ 81  42  63]\n",
            " [ 43 168 127]\n",
            " [ 53  99 553]]\n",
            "Score: 65.26\n",
            "Classification Report:               precision    recall  f1-score   support\n",
            "\n",
            "           1       0.46      0.44      0.45       186\n",
            "           3       0.54      0.50      0.52       338\n",
            "           5       0.74      0.78      0.76       705\n",
            "\n",
            "    accuracy                           0.65      1229\n",
            "   macro avg       0.58      0.57      0.58      1229\n",
            "weighted avg       0.65      0.65      0.65      1229\n",
            "\n"
          ],
          "name": "stdout"
        }
      ]
    },
    {
      "cell_type": "code",
      "metadata": {
        "id": "_qjqpoGsSA1u",
        "outputId": "1765c373-1bed-4a1d-c90b-eae315a972f7",
        "colab": {
          "base_uri": "https://localhost:8080/",
          "height": 278
        }
      },
      "source": [
        "# Decision Tree\n",
        "from sklearn.tree import DecisionTreeClassifier\n",
        "dt = DecisionTreeClassifier()\n",
        "dt.fit(x_train,y_train)\n",
        "preddt = dt.predict(x_test)\n",
        "print(\"Confusion Matrix for Decision Tree:\")\n",
        "print(confusion_matrix(y_test,preddt))\n",
        "print(\"Score:\",round(accuracy_score(y_test,preddt)*100,2))\n",
        "print(\"Classification Report:\",classification_report(y_test,preddt))"
      ],
      "execution_count": null,
      "outputs": [
        {
          "output_type": "stream",
          "text": [
            "Confusion Matrix for Decision Tree:\n",
            "[[ 44  55  87]\n",
            " [ 47 131 160]\n",
            " [ 69 153 483]]\n",
            "Score: 53.54\n",
            "Classification Report:               precision    recall  f1-score   support\n",
            "\n",
            "           1       0.28      0.24      0.25       186\n",
            "           3       0.39      0.39      0.39       338\n",
            "           5       0.66      0.69      0.67       705\n",
            "\n",
            "    accuracy                           0.54      1229\n",
            "   macro avg       0.44      0.44      0.44      1229\n",
            "weighted avg       0.53      0.54      0.53      1229\n",
            "\n"
          ],
          "name": "stdout"
        }
      ]
    },
    {
      "cell_type": "code",
      "metadata": {
        "id": "11dq0o2mSNko",
        "outputId": "117a824b-50c7-4961-fbd8-1a0e493f6b00",
        "colab": {
          "base_uri": "https://localhost:8080/",
          "height": 332
        }
      },
      "source": [
        "# Support Vector Machine\n",
        "from sklearn.svm import SVC\n",
        "svm = SVC(random_state=101)\n",
        "svm.fit(x_train,y_train)\n",
        "predsvm = svm.predict(x_test)\n",
        "print(\"Confusion Matrix for Support Vector Machines:\")\n",
        "print(confusion_matrix(y_test,predsvm))\n",
        "print(\"Score:\",round(accuracy_score(y_test,predsvm)*100,2))\n",
        "print(\"Classification Report:\",classification_report(y_test,predsvm))"
      ],
      "execution_count": null,
      "outputs": [
        {
          "output_type": "stream",
          "text": [
            "Confusion Matrix for Support Vector Machines:\n",
            "[[  0  17 169]\n",
            " [  0  39 299]\n",
            " [  0  16 689]]\n",
            "Score: 59.24\n",
            "Classification Report:               precision    recall  f1-score   support\n",
            "\n",
            "           1       0.00      0.00      0.00       186\n",
            "           3       0.54      0.12      0.19       338\n",
            "           5       0.60      0.98      0.74       705\n",
            "\n",
            "    accuracy                           0.59      1229\n",
            "   macro avg       0.38      0.36      0.31      1229\n",
            "weighted avg       0.49      0.59      0.48      1229\n",
            "\n"
          ],
          "name": "stdout"
        },
        {
          "output_type": "stream",
          "text": [
            "/usr/local/lib/python3.6/dist-packages/sklearn/metrics/_classification.py:1272: UndefinedMetricWarning: Precision and F-score are ill-defined and being set to 0.0 in labels with no predicted samples. Use `zero_division` parameter to control this behavior.\n",
            "  _warn_prf(average, modifier, msg_start, len(result))\n"
          ],
          "name": "stderr"
        }
      ]
    },
    {
      "cell_type": "code",
      "metadata": {
        "id": "SHnSzVSoTeoG",
        "outputId": "b5347f81-c133-4660-c179-9da2f0e4f508",
        "colab": {
          "base_uri": "https://localhost:8080/",
          "height": 295
        }
      },
      "source": [
        "# K Nearest Neighbour Algorithm\n",
        "from sklearn.neighbors import KNeighborsClassifier\n",
        "knn = KNeighborsClassifier(n_neighbors=10)\n",
        "knn.fit(x_train,y_train)\n",
        "predknn = knn.predict(x_test)\n",
        "print(\"Confusion Matrix for K Neighbors Classifier:\")\n",
        "print(confusion_matrix(y_test,predknn))\n",
        "print(\"Score: \",round(accuracy_score(y_test,predknn)*100,2))\n",
        "print(\"Classification Report:\")\n",
        "print(classification_report(y_test,predknn))"
      ],
      "execution_count": null,
      "outputs": [
        {
          "output_type": "stream",
          "text": [
            "Confusion Matrix for K Neighbors Classifier:\n",
            "[[ 16  42 128]\n",
            " [ 11 131 196]\n",
            " [ 12 107 586]]\n",
            "Score:  59.64\n",
            "Classification Report:\n",
            "              precision    recall  f1-score   support\n",
            "\n",
            "           1       0.41      0.09      0.14       186\n",
            "           3       0.47      0.39      0.42       338\n",
            "           5       0.64      0.83      0.73       705\n",
            "\n",
            "    accuracy                           0.60      1229\n",
            "   macro avg       0.51      0.43      0.43      1229\n",
            "weighted avg       0.56      0.60      0.55      1229\n",
            "\n"
          ],
          "name": "stdout"
        }
      ]
    },
    {
      "cell_type": "code",
      "metadata": {
        "id": "fe973PmmTrFl",
        "outputId": "d158b981-bcc6-412f-bd26-0a0999256c5c",
        "colab": {
          "base_uri": "https://localhost:8080/",
          "height": 278
        }
      },
      "source": [
        "# Random Forest\n",
        "from sklearn.ensemble import RandomForestClassifier\n",
        "rmfr = RandomForestClassifier()\n",
        "rmfr.fit(x_train,y_train)\n",
        "predrmfr = rmfr.predict(x_test)\n",
        "print(\"Confusion Matrix for Random Forest Classifier:\")\n",
        "print(confusion_matrix(y_test,predrmfr))\n",
        "print(\"Score:\",round(accuracy_score(y_test,predrmfr)*100,2))\n",
        "print(\"Classification Report:\",classification_report(y_test,predrmfr))"
      ],
      "execution_count": null,
      "outputs": [
        {
          "output_type": "stream",
          "text": [
            "Confusion Matrix for Random Forest Classifier:\n",
            "[[ 15  40 131]\n",
            " [  1 110 227]\n",
            " [  1  65 639]]\n",
            "Score: 62.16\n",
            "Classification Report:               precision    recall  f1-score   support\n",
            "\n",
            "           1       0.88      0.08      0.15       186\n",
            "           3       0.51      0.33      0.40       338\n",
            "           5       0.64      0.91      0.75       705\n",
            "\n",
            "    accuracy                           0.62      1229\n",
            "   macro avg       0.68      0.44      0.43      1229\n",
            "weighted avg       0.64      0.62      0.56      1229\n",
            "\n"
          ],
          "name": "stdout"
        }
      ]
    },
    {
      "cell_type": "markdown",
      "metadata": {
        "id": "Dp-Wq-_DXCtk"
      },
      "source": [
        "From the above modellings:\n",
        "1.  Multinominal Naive Bayes -  65.26\n",
        "2.  Decision Tree -  53.54\n",
        "3.  Support Vector Machine -  59.24\n",
        "4.  K- Nearest Neighbor Classifier -  59.64\n",
        "5.  Random Forest Classifier-  62.16\n",
        "\n",
        "Here, the Multinominal Naive Bayes has good score compared to other models\n",
        "By using this model we can predict the positive, negative and average reviews"
      ]
    },
    {
      "cell_type": "code",
      "metadata": {
        "id": "osfBqYkpY0Xk",
        "outputId": "8b24523d-4db6-4c64-9cfb-f2e92a17d09e",
        "colab": {
          "base_uri": "https://localhost:8080/",
          "height": 225
        }
      },
      "source": [
        "# POSITIVE REVIEW\n",
        "pr = data['text'][15]\n",
        "print(pr)\n",
        "print(\"Actual Rating: \",data['stars'][0])\n",
        "pr_t = vocab.transform([pr])\n",
        "print(\"Predicted Rating:\")\n",
        "mnb.predict(pr_t)[0]"
      ],
      "execution_count": null,
      "outputs": [
        {
          "output_type": "stream",
          "text": [
            "a must stop when you are in montreal!\n",
            "\n",
            "I was in Mtl for the weekend and wind up eating here 2 nights in a row!\n",
            "\n",
            "The sandwiches here are unbelieveable! The smoked meat is so tasty and salty but so good. The bread definitely complements the meat!\n",
            "\n",
            "Not much of a line up if you come either later in the evening.\n",
            "\n",
            "Remember to leave a tip in the plate when you order take out and the servers will be extra nice and funny!\n",
            "Actual Rating:  5\n",
            "Predicted Rating:\n"
          ],
          "name": "stdout"
        },
        {
          "output_type": "execute_result",
          "data": {
            "text/plain": [
              "5"
            ]
          },
          "metadata": {
            "tags": []
          },
          "execution_count": 65
        }
      ]
    },
    {
      "cell_type": "code",
      "metadata": {
        "id": "DpF5_5OqaYqv",
        "outputId": "1dcd59db-13d2-4169-f63d-7c8337e7e652",
        "colab": {
          "base_uri": "https://localhost:8080/",
          "height": 225
        }
      },
      "source": [
        "# AVERAGE REVIEW\n",
        "ar = data['text'][15]\n",
        "print(ar)\n",
        "print(\"Actual Rating: \",data['stars'][16])\n",
        "ar_t = vocab.transform([ar])\n",
        "print(\"Predicted Rating:\")\n",
        "mnb.predict(ar_t)[0]"
      ],
      "execution_count": null,
      "outputs": [
        {
          "output_type": "stream",
          "text": [
            "a must stop when you are in montreal!\n",
            "\n",
            "I was in Mtl for the weekend and wind up eating here 2 nights in a row!\n",
            "\n",
            "The sandwiches here are unbelieveable! The smoked meat is so tasty and salty but so good. The bread definitely complements the meat!\n",
            "\n",
            "Not much of a line up if you come either later in the evening.\n",
            "\n",
            "Remember to leave a tip in the plate when you order take out and the servers will be extra nice and funny!\n",
            "Actual Rating:  1\n",
            "Predicted Rating:\n"
          ],
          "name": "stdout"
        },
        {
          "output_type": "execute_result",
          "data": {
            "text/plain": [
              "5"
            ]
          },
          "metadata": {
            "tags": []
          },
          "execution_count": 66
        }
      ]
    },
    {
      "cell_type": "code",
      "metadata": {
        "id": "uOu6jGdDamTu",
        "outputId": "2f35cdef-3e1a-46d5-99b3-23f55a1ac256",
        "colab": {
          "base_uri": "https://localhost:8080/",
          "height": 225
        }
      },
      "source": [
        "# NEGATIVE REVIEW\n",
        "nr = data['text'][15]\n",
        "print(nr)\n",
        "print(\"Actual Rating: \",data['stars'][23])\n",
        "nr_t = vocab.transform([nr])\n",
        "print(\"Predicted Rating:\")\n",
        "mnb.predict(nr_t)[0]"
      ],
      "execution_count": null,
      "outputs": [
        {
          "output_type": "stream",
          "text": [
            "a must stop when you are in montreal!\n",
            "\n",
            "I was in Mtl for the weekend and wind up eating here 2 nights in a row!\n",
            "\n",
            "The sandwiches here are unbelieveable! The smoked meat is so tasty and salty but so good. The bread definitely complements the meat!\n",
            "\n",
            "Not much of a line up if you come either later in the evening.\n",
            "\n",
            "Remember to leave a tip in the plate when you order take out and the servers will be extra nice and funny!\n",
            "Actual Rating:  1\n",
            "Predicted Rating:\n"
          ],
          "name": "stdout"
        },
        {
          "output_type": "execute_result",
          "data": {
            "text/plain": [
              "5"
            ]
          },
          "metadata": {
            "tags": []
          },
          "execution_count": 70
        }
      ]
    },
    {
      "cell_type": "code",
      "metadata": {
        "id": "cvm0SemvasSt",
        "outputId": "072447f5-5842-4048-e40f-12b48478b91e",
        "colab": {
          "base_uri": "https://localhost:8080/",
          "height": 121
        }
      },
      "source": [
        "count = data['stars'].value_counts()\n",
        "print(count)"
      ],
      "execution_count": null,
      "outputs": [
        {
          "output_type": "stream",
          "text": [
            "5    3554\n",
            "4    2967\n",
            "3    1716\n",
            "2     891\n",
            "1     873\n",
            "Name: stars, dtype: int64\n"
          ],
          "name": "stdout"
        }
      ]
    }
  ]
}